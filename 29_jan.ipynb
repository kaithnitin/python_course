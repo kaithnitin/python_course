{
 "cells": [
  {
   "cell_type": "markdown",
   "id": "b73beb1a-7a02-45fa-9621-24345bd74c50",
   "metadata": {},
   "source": [
    "# 29 Jan'23 Python Basic\n",
    "## Introduction Of Python And Comparison With Other Programming Language\n",
    "## Python Objects, Number & Booleans, Strings.\n",
    "## Container Objects, Mutability Of Objects"
   ]
  },
  {
   "cell_type": "code",
   "execution_count": 1,
   "id": "2b641cbb-7590-47e9-9f9a-75f4f310f46c",
   "metadata": {},
   "outputs": [],
   "source": [
    "# what is python? \n",
    "# python is a high level and general purpose programming language\n",
    "# dynamically typed and garbaged collected\n",
    "# it support multiple programming paradigms, including structured, object orianted and functional programming"
   ]
  },
  {
   "cell_type": "code",
   "execution_count": null,
   "id": "f23bbe55-7277-4696-bac0-9aeae10fb235",
   "metadata": {},
   "outputs": [],
   "source": [
    "# python objects\n",
    "# 1. list\n",
    "# 2. dictionaries\n",
    "# 3. set\n",
    "# 4. tuples"
   ]
  },
  {
   "cell_type": "code",
   "execution_count": 16,
   "id": "3c53db2d-0fae-46d1-87b7-cf706afc2678",
   "metadata": {},
   "outputs": [],
   "source": [
    "l=[1,2,3,4,[1,2,3,4],{\"name\":\"ram\",\"class\":10,\"roll no.\":1234,\"tuple\":(1,2,[1,2,3,4],3,{\"name\":\"ram\",\"class\":10,\"roll no.\":1234})}]"
   ]
  },
  {
   "cell_type": "code",
   "execution_count": 17,
   "id": "c1d05117-89aa-4747-ad82-122f900af421",
   "metadata": {},
   "outputs": [
    {
     "data": {
      "text/plain": [
       "list"
      ]
     },
     "execution_count": 17,
     "metadata": {},
     "output_type": "execute_result"
    }
   ],
   "source": [
    "type(l)"
   ]
  },
  {
   "cell_type": "code",
   "execution_count": 14,
   "id": "53eff3ca-bcf2-416e-b62e-7ca3add27b35",
   "metadata": {},
   "outputs": [],
   "source": [
    "d={\"name\":\"ram\",\"class\":10,\"roll no.\":1234,\"tuple\":(1,2,[1,2,3,4],3,{\"name\":\"ram\",\"class\":10,\"roll no.\":1234})}"
   ]
  },
  {
   "cell_type": "code",
   "execution_count": 15,
   "id": "90471354-9ceb-4e12-820e-9d080d32667c",
   "metadata": {},
   "outputs": [
    {
     "data": {
      "text/plain": [
       "dict"
      ]
     },
     "execution_count": 15,
     "metadata": {},
     "output_type": "execute_result"
    }
   ],
   "source": [
    "type(d)"
   ]
  },
  {
   "cell_type": "code",
   "execution_count": 10,
   "id": "fdcafb3b-58b6-40e0-864a-97b43eb500a0",
   "metadata": {},
   "outputs": [],
   "source": [
    "s={1,2,3,\"ram\"}"
   ]
  },
  {
   "cell_type": "code",
   "execution_count": 11,
   "id": "cd89c391-3d3e-494b-afaa-d8cc09fc3b19",
   "metadata": {},
   "outputs": [
    {
     "data": {
      "text/plain": [
       "set"
      ]
     },
     "execution_count": 11,
     "metadata": {},
     "output_type": "execute_result"
    }
   ],
   "source": [
    "type(s)"
   ]
  },
  {
   "cell_type": "code",
   "execution_count": 12,
   "id": "19c23379-5f8e-4197-8731-3a5a1ca1823f",
   "metadata": {},
   "outputs": [],
   "source": [
    "t=(1,2,[1,2,3,4],3,{\"name\":\"ram\",\"class\":10,\"roll no.\":1234},(1,2,[1,2,3,4],3,{\"name\":\"ram\",\"class\":10,\"roll no.\":1234}))"
   ]
  },
  {
   "cell_type": "code",
   "execution_count": 18,
   "id": "cc4e6141-2dd1-4fa7-8054-250cf9b52eba",
   "metadata": {},
   "outputs": [
    {
     "data": {
      "text/plain": [
       "tuple"
      ]
     },
     "execution_count": 18,
     "metadata": {},
     "output_type": "execute_result"
    }
   ],
   "source": [
    "type(t)"
   ]
  },
  {
   "cell_type": "code",
   "execution_count": 2,
   "id": "b59170e6-5ec9-4c0e-9f6c-649e4f24769c",
   "metadata": {},
   "outputs": [],
   "source": [
    "# what are numbers?\n",
    "# the data whose data type is interger are called numbers."
   ]
  },
  {
   "cell_type": "code",
   "execution_count": 3,
   "id": "0c484ea6-8995-4880-85f7-cb52cc680355",
   "metadata": {},
   "outputs": [],
   "source": [
    "# what are boolean?\n",
    "# boolean have only two data type \"True\" & \"False\">"
   ]
  },
  {
   "cell_type": "code",
   "execution_count": 4,
   "id": "e73ca99c-8982-4c8f-8a4d-09b0336c30a3",
   "metadata": {},
   "outputs": [],
   "source": [
    "# what is strings?\n",
    "# the data that is typed in the \"\" are called strings>"
   ]
  },
  {
   "cell_type": "code",
   "execution_count": null,
   "id": "0505c67f-0668-4ef6-80f8-72002e1d44f0",
   "metadata": {},
   "outputs": [],
   "source": [
    "# mutability of object:\n",
    "# the data that can not be manipulated is called mutability of object."
   ]
  }
 ],
 "metadata": {
  "kernelspec": {
   "display_name": "Python 3 (ipykernel)",
   "language": "python",
   "name": "python3"
  },
  "language_info": {
   "codemirror_mode": {
    "name": "ipython",
    "version": 3
   },
   "file_extension": ".py",
   "mimetype": "text/x-python",
   "name": "python",
   "nbconvert_exporter": "python",
   "pygments_lexer": "ipython3",
   "version": "3.10.6"
  }
 },
 "nbformat": 4,
 "nbformat_minor": 5
}
