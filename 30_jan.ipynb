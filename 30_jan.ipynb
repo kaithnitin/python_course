{
 "cells": [
  {
   "cell_type": "markdown",
   "id": "73675f31-580c-47ca-acb5-b6814d5460f5",
   "metadata": {},
   "source": [
    "### Operators - Arithmetic, Bitwise, Comparison And Assignment Operators, Operator's Precedence And Associativity"
   ]
  },
  {
   "cell_type": "markdown",
   "id": "c930eb35-0143-4480-9d39-579d57095a2b",
   "metadata": {},
   "source": [
    "# Arithmetic operators"
   ]
  },
  {
   "cell_type": "code",
   "execution_count": 2,
   "id": "0d1efa27-9aa1-46e9-b28d-9d6dc8ccde2e",
   "metadata": {},
   "outputs": [
    {
     "data": {
      "text/plain": [
       "4"
      ]
     },
     "execution_count": 2,
     "metadata": {},
     "output_type": "execute_result"
    }
   ],
   "source": [
    "# addition\n",
    "2 + 2"
   ]
  },
  {
   "cell_type": "code",
   "execution_count": 3,
   "id": "e7f6594b-d954-4ae8-bfd0-343dfe1de16d",
   "metadata": {},
   "outputs": [
    {
     "data": {
      "text/plain": [
       "2"
      ]
     },
     "execution_count": 3,
     "metadata": {},
     "output_type": "execute_result"
    }
   ],
   "source": [
    "# subtraction\n",
    "4 - 2"
   ]
  },
  {
   "cell_type": "code",
   "execution_count": 4,
   "id": "6aaf19a8-7c44-48d3-b685-2ef5e28a48a8",
   "metadata": {},
   "outputs": [
    {
     "data": {
      "text/plain": [
       "24"
      ]
     },
     "execution_count": 4,
     "metadata": {},
     "output_type": "execute_result"
    }
   ],
   "source": [
    "# multiplication\n",
    "3 * 8"
   ]
  },
  {
   "cell_type": "code",
   "execution_count": 7,
   "id": "3018dc9b-1dbf-4e77-94b9-68b05833c25b",
   "metadata": {},
   "outputs": [
    {
     "data": {
      "text/plain": [
       "8"
      ]
     },
     "execution_count": 7,
     "metadata": {},
     "output_type": "execute_result"
    }
   ],
   "source": [
    "# raise to the power\n",
    "2**3"
   ]
  },
  {
   "cell_type": "code",
   "execution_count": 5,
   "id": "58fb1e74-dc3b-44fd-9766-fa4d01dc7ba1",
   "metadata": {},
   "outputs": [
    {
     "data": {
      "text/plain": [
       "2.0"
      ]
     },
     "execution_count": 5,
     "metadata": {},
     "output_type": "execute_result"
    }
   ],
   "source": [
    "# division\n",
    "8/4"
   ]
  },
  {
   "cell_type": "code",
   "execution_count": 6,
   "id": "04ef05e8-2572-4d4b-876e-d0d2edde3d67",
   "metadata": {},
   "outputs": [
    {
     "data": {
      "text/plain": [
       "2"
      ]
     },
     "execution_count": 6,
     "metadata": {},
     "output_type": "execute_result"
    }
   ],
   "source": [
    "# to remove decimal in division\n",
    "8//4"
   ]
  },
  {
   "cell_type": "code",
   "execution_count": 8,
   "id": "e360967b-6f3b-49f4-8149-9fb05894e639",
   "metadata": {},
   "outputs": [
    {
     "data": {
      "text/plain": [
       "1"
      ]
     },
     "execution_count": 8,
     "metadata": {},
     "output_type": "execute_result"
    }
   ],
   "source": [
    "# remainder\n",
    "9 % 4"
   ]
  },
  {
   "cell_type": "markdown",
   "id": "0e119e77-a164-4d80-b2c1-e80703e61c2a",
   "metadata": {},
   "source": [
    "# Bitwise operator"
   ]
  },
  {
   "cell_type": "code",
   "execution_count": 9,
   "id": "160109fb-760f-497d-b8a5-2ffb72668897",
   "metadata": {},
   "outputs": [
    {
     "data": {
      "text/plain": [
       "True"
      ]
     },
     "execution_count": 9,
     "metadata": {},
     "output_type": "execute_result"
    }
   ],
   "source": [
    "# AND (&)\n",
    "True & True"
   ]
  },
  {
   "cell_type": "code",
   "execution_count": 11,
   "id": "29474b40-2ee2-4815-abb6-3b91ca188be0",
   "metadata": {},
   "outputs": [
    {
     "data": {
      "text/plain": [
       "False"
      ]
     },
     "execution_count": 11,
     "metadata": {},
     "output_type": "execute_result"
    }
   ],
   "source": [
    "True and False"
   ]
  },
  {
   "cell_type": "code",
   "execution_count": 13,
   "id": "32a996ae-712f-4f8b-a540-d3c990046a39",
   "metadata": {},
   "outputs": [
    {
     "data": {
      "text/plain": [
       "True"
      ]
     },
     "execution_count": 13,
     "metadata": {},
     "output_type": "execute_result"
    }
   ],
   "source": [
    "# or (|)\n",
    "True | False"
   ]
  },
  {
   "cell_type": "code",
   "execution_count": 14,
   "id": "75f2a38d-951d-46dd-b778-cac698eb7b9a",
   "metadata": {},
   "outputs": [
    {
     "data": {
      "text/plain": [
       "True"
      ]
     },
     "execution_count": 14,
     "metadata": {},
     "output_type": "execute_result"
    }
   ],
   "source": [
    "True or False"
   ]
  },
  {
   "cell_type": "markdown",
   "id": "752efb67-5380-4056-8210-10d1ab016a17",
   "metadata": {},
   "source": [
    "# Comparision operator"
   ]
  },
  {
   "cell_type": "code",
   "execution_count": 15,
   "id": "7eeb6592-3c23-4dea-a31d-b8c731de08e9",
   "metadata": {},
   "outputs": [
    {
     "data": {
      "text/plain": [
       "True"
      ]
     },
     "execution_count": 15,
     "metadata": {},
     "output_type": "execute_result"
    }
   ],
   "source": [
    "# greater than equalto (>=):\n",
    "5 >= 4"
   ]
  },
  {
   "cell_type": "code",
   "execution_count": 16,
   "id": "bbc2f1f6-dfb2-4027-a4be-d42dc14722be",
   "metadata": {},
   "outputs": [
    {
     "data": {
      "text/plain": [
       "True"
      ]
     },
     "execution_count": 16,
     "metadata": {},
     "output_type": "execute_result"
    }
   ],
   "source": [
    "# Less than equalto (<=):\n",
    "4 <= 6"
   ]
  },
  {
   "cell_type": "code",
   "execution_count": 17,
   "id": "6daa578c-2e42-45d8-b39b-8aa585466f52",
   "metadata": {},
   "outputs": [
    {
     "data": {
      "text/plain": [
       "False"
      ]
     },
     "execution_count": 17,
     "metadata": {},
     "output_type": "execute_result"
    }
   ],
   "source": [
    "# greater than (>):\n",
    "2 > 5"
   ]
  },
  {
   "cell_type": "code",
   "execution_count": 18,
   "id": "f63d1cbf-8712-4e9d-a4e8-35fb38e259c2",
   "metadata": {},
   "outputs": [
    {
     "data": {
      "text/plain": [
       "False"
      ]
     },
     "execution_count": 18,
     "metadata": {},
     "output_type": "execute_result"
    }
   ],
   "source": [
    "# less than (<):\n",
    "6 < 4"
   ]
  },
  {
   "cell_type": "code",
   "execution_count": 19,
   "id": "b259132f-2612-457e-bb3c-78e964a3c3fa",
   "metadata": {},
   "outputs": [
    {
     "data": {
      "text/plain": [
       "True"
      ]
     },
     "execution_count": 19,
     "metadata": {},
     "output_type": "execute_result"
    }
   ],
   "source": [
    "# equal to (==):\n",
    "2 == 2"
   ]
  },
  {
   "cell_type": "code",
   "execution_count": 20,
   "id": "db81d5bd-7d22-4d0c-bcdc-25d99e04759f",
   "metadata": {},
   "outputs": [
    {
     "data": {
      "text/plain": [
       "True"
      ]
     },
     "execution_count": 20,
     "metadata": {},
     "output_type": "execute_result"
    }
   ],
   "source": [
    "# not equal to (!=):\n",
    "2 != 4"
   ]
  },
  {
   "cell_type": "markdown",
   "id": "e1b96631-f0ad-4202-8359-cb380aaca3e1",
   "metadata": {},
   "source": [
    "# Assignment Operator"
   ]
  },
  {
   "cell_type": "code",
   "execution_count": 22,
   "id": "7ecd7ea4-825a-49c9-9aba-526b232db485",
   "metadata": {},
   "outputs": [],
   "source": [
    "# Assigning values(=):\n",
    "a=\"pwskills\""
   ]
  },
  {
   "cell_type": "code",
   "execution_count": 23,
   "id": "9f66d7f9-5f0f-4359-b562-8f1af9718b2a",
   "metadata": {},
   "outputs": [
    {
     "data": {
      "text/plain": [
       "'pwskills'"
      ]
     },
     "execution_count": 23,
     "metadata": {},
     "output_type": "execute_result"
    }
   ],
   "source": [
    "a"
   ]
  },
  {
   "cell_type": "code",
   "execution_count": 24,
   "id": "7d7f7352-04a1-49a5-bb19-2c2a98c6cc7b",
   "metadata": {},
   "outputs": [],
   "source": [
    "# increment assign (+=):\n",
    "a=1\n",
    "a+=1"
   ]
  },
  {
   "cell_type": "code",
   "execution_count": 25,
   "id": "01bbd2c3-fc9d-422b-a48c-f12f11da53f2",
   "metadata": {},
   "outputs": [
    {
     "data": {
      "text/plain": [
       "2"
      ]
     },
     "execution_count": 25,
     "metadata": {},
     "output_type": "execute_result"
    }
   ],
   "source": [
    "a"
   ]
  },
  {
   "cell_type": "code",
   "execution_count": 26,
   "id": "5345a78b-c637-4ce9-be51-89be5f6f49bc",
   "metadata": {},
   "outputs": [],
   "source": [
    "# dicrement assign (-=):\n",
    "b=5\n",
    "b-=1"
   ]
  },
  {
   "cell_type": "code",
   "execution_count": 27,
   "id": "4e49bd03-e5cd-49fe-bffa-cfad30284b17",
   "metadata": {},
   "outputs": [
    {
     "data": {
      "text/plain": [
       "4"
      ]
     },
     "execution_count": 27,
     "metadata": {},
     "output_type": "execute_result"
    }
   ],
   "source": [
    "b"
   ]
  },
  {
   "cell_type": "code",
   "execution_count": 28,
   "id": "016c2b47-00fe-4c63-af3d-f8a44d4e086b",
   "metadata": {},
   "outputs": [],
   "source": [
    "# multiply assign (*=):\n",
    "c=5\n",
    "c*=2"
   ]
  },
  {
   "cell_type": "code",
   "execution_count": 29,
   "id": "975b0812-df79-4cfa-aacd-998bf8f96f03",
   "metadata": {},
   "outputs": [
    {
     "data": {
      "text/plain": [
       "10"
      ]
     },
     "execution_count": 29,
     "metadata": {},
     "output_type": "execute_result"
    }
   ],
   "source": [
    "c"
   ]
  },
  {
   "cell_type": "code",
   "execution_count": 30,
   "id": "79714b9f-cfbd-4234-ab39-799954b412ce",
   "metadata": {},
   "outputs": [],
   "source": [
    "# division assign (/=):\n",
    "d=8\n",
    "d/=2"
   ]
  },
  {
   "cell_type": "code",
   "execution_count": 31,
   "id": "810093d6-3f24-43ae-8747-869ffa0d9b14",
   "metadata": {},
   "outputs": [
    {
     "data": {
      "text/plain": [
       "4.0"
      ]
     },
     "execution_count": 31,
     "metadata": {},
     "output_type": "execute_result"
    }
   ],
   "source": [
    "d"
   ]
  },
  {
   "cell_type": "code",
   "execution_count": 32,
   "id": "98ae1b54-475b-4410-b6df-6cf809db01b0",
   "metadata": {},
   "outputs": [],
   "source": [
    "# remainder assign (%=):\n",
    "e=7\n",
    "e%=2"
   ]
  },
  {
   "cell_type": "code",
   "execution_count": 33,
   "id": "8dd0ea8c-379d-428f-b8d6-6fce6a1ba8f6",
   "metadata": {},
   "outputs": [
    {
     "data": {
      "text/plain": [
       "1"
      ]
     },
     "execution_count": 33,
     "metadata": {},
     "output_type": "execute_result"
    }
   ],
   "source": [
    "e"
   ]
  },
  {
   "cell_type": "markdown",
   "id": "6df5e7f1-85ac-44b4-b18f-882da117f5db",
   "metadata": {},
   "source": [
    "# Conditions (If Else, If-Elif-Else), Loops (While, For)"
   ]
  },
  {
   "cell_type": "code",
   "execution_count": 34,
   "id": "351b77e6-6336-4976-9834-0ffeeba5562e",
   "metadata": {},
   "outputs": [
    {
     "name": "stdin",
     "output_type": "stream",
     "text": [
      " 20\n"
     ]
    },
    {
     "name": "stdout",
     "output_type": "stream",
     "text": [
      "Greater than 10\n"
     ]
    }
   ],
   "source": [
    "# If-Else\n",
    "num=int(input(\"\"))\n",
    "if num >= 10:\n",
    "    print(\"Greater than 10\")\n",
    "else:\n",
    "    print(\"Less than 10\")"
   ]
  },
  {
   "cell_type": "code",
   "execution_count": 40,
   "id": "93728840-9f8d-4a75-a41b-27d6aee163b5",
   "metadata": {},
   "outputs": [
    {
     "name": "stdin",
     "output_type": "stream",
     "text": [
      " 10\n"
     ]
    },
    {
     "name": "stdout",
     "output_type": "stream",
     "text": [
      "you hit the jackpot Bro\n"
     ]
    }
   ],
   "source": [
    "# If-Elif-Else\n",
    "num1=int(input(\"\"))\n",
    "if num1 ==0:\n",
    "    print(\"don't put 0\")\n",
    "elif num1 > 10:\n",
    "    print(\"Greater than 10\") \n",
    "elif num1<10:\n",
    "    print(\"less han 10\")\n",
    "else:\n",
    "    print(\"you hit the jackpot Bro\")   "
   ]
  },
  {
   "cell_type": "markdown",
   "id": "744262a5-1cf0-4533-88b1-8b04ca3587a8",
   "metadata": {},
   "source": [
    "# loops (while, for)"
   ]
  },
  {
   "cell_type": "code",
   "execution_count": 41,
   "id": "f85bfdb7-c805-4f99-ac78-153c8bc07f5b",
   "metadata": {},
   "outputs": [],
   "source": [
    "# for loop"
   ]
  },
  {
   "cell_type": "code",
   "execution_count": 43,
   "id": "26e07e1b-29ee-4bbe-aacc-518eefbea107",
   "metadata": {},
   "outputs": [],
   "source": [
    "l=[1,2,3,4,5,6,\"kat\",\"pwskills\",3+2j,2.33]"
   ]
  },
  {
   "cell_type": "code",
   "execution_count": 44,
   "id": "a1f0921c-1fc7-4821-a025-b291127b500a",
   "metadata": {},
   "outputs": [
    {
     "name": "stdout",
     "output_type": "stream",
     "text": [
      "1\n",
      "2\n",
      "3\n",
      "4\n",
      "5\n",
      "6\n",
      "kat\n",
      "pwskills\n",
      "(3+2j)\n",
      "2.33\n"
     ]
    }
   ],
   "source": [
    "for i in l:\n",
    "    print(i)"
   ]
  },
  {
   "cell_type": "code",
   "execution_count": 45,
   "id": "a88ce523-7fe8-4433-bde4-b431feb409ad",
   "metadata": {},
   "outputs": [],
   "source": [
    "# while loop"
   ]
  },
  {
   "cell_type": "code",
   "execution_count": 71,
   "id": "55fc1d9e-c2a7-483f-acff-780a60a46a70",
   "metadata": {},
   "outputs": [
    {
     "name": "stdout",
     "output_type": "stream",
     "text": [
      "1\n",
      "2\n",
      "3\n",
      "4\n",
      "5\n",
      "6\n",
      "kat\n",
      "pwskills\n",
      "(3+2j)\n",
      "2.33\n"
     ]
    }
   ],
   "source": [
    "l=[1,2,3,4,5,6,\"kat\",\"pwskills\",3+2j,2.33]\n",
    "counter=0\n",
    "while counter < len(l):\n",
    "    print(l[counter])\n",
    "    counter+=1"
   ]
  },
  {
   "cell_type": "markdown",
   "id": "e8c03014-ea7a-4477-ad23-544ba7fb63cf",
   "metadata": {},
   "source": [
    "# Break And Continue Statement And Range Function"
   ]
  },
  {
   "cell_type": "code",
   "execution_count": null,
   "id": "c323f1f3-9333-41f3-99de-49a4330ad3f5",
   "metadata": {},
   "outputs": [],
   "source": [
    "# range function"
   ]
  },
  {
   "cell_type": "code",
   "execution_count": 60,
   "id": "edf3c548-066a-4217-a850-f9e5a21403fe",
   "metadata": {},
   "outputs": [
    {
     "data": {
      "text/plain": [
       "[1, 2, 3, 4, 5, 6, 'kat', 'pwskills', (3+2j), 2.33]"
      ]
     },
     "execution_count": 60,
     "metadata": {},
     "output_type": "execute_result"
    }
   ],
   "source": [
    "l"
   ]
  },
  {
   "cell_type": "code",
   "execution_count": 62,
   "id": "e9c43cc5-f2aa-48b7-85bf-6c158309d1ec",
   "metadata": {},
   "outputs": [
    {
     "data": {
      "text/plain": [
       "10"
      ]
     },
     "execution_count": 62,
     "metadata": {},
     "output_type": "execute_result"
    }
   ],
   "source": [
    "len(l)"
   ]
  },
  {
   "cell_type": "code",
   "execution_count": 63,
   "id": "9dc1f1bf-0da5-4a00-985e-ef719966419f",
   "metadata": {},
   "outputs": [
    {
     "data": {
      "text/plain": [
       "range(0, 10)"
      ]
     },
     "execution_count": 63,
     "metadata": {},
     "output_type": "execute_result"
    }
   ],
   "source": [
    "range(len(l))"
   ]
  },
  {
   "cell_type": "code",
   "execution_count": 64,
   "id": "5cc51be0-efcf-4e38-8c2a-66038e254d09",
   "metadata": {},
   "outputs": [
    {
     "data": {
      "text/plain": [
       "[0, 1, 2, 3, 4, 5, 6, 7, 8, 9]"
      ]
     },
     "execution_count": 64,
     "metadata": {},
     "output_type": "execute_result"
    }
   ],
   "source": [
    "list(range(len(l)))"
   ]
  },
  {
   "cell_type": "code",
   "execution_count": 65,
   "id": "1b9514a0-6894-48b3-82b4-df63e72d90b7",
   "metadata": {},
   "outputs": [
    {
     "data": {
      "text/plain": [
       "range(1, 10, 2)"
      ]
     },
     "execution_count": 65,
     "metadata": {},
     "output_type": "execute_result"
    }
   ],
   "source": [
    "range(1,len(l),2)"
   ]
  },
  {
   "cell_type": "code",
   "execution_count": 66,
   "id": "97979b07-3ccf-4fb5-8710-51d95f502b8d",
   "metadata": {},
   "outputs": [
    {
     "data": {
      "text/plain": [
       "[1, 3, 5, 7, 9]"
      ]
     },
     "execution_count": 66,
     "metadata": {},
     "output_type": "execute_result"
    }
   ],
   "source": [
    "list(range(1,len(l),2))"
   ]
  },
  {
   "cell_type": "code",
   "execution_count": 67,
   "id": "1b68bab1-b581-4ba8-9806-e6db8bc7af5b",
   "metadata": {},
   "outputs": [
    {
     "data": {
      "text/plain": [
       "range(9, -1, -1)"
      ]
     },
     "execution_count": 67,
     "metadata": {},
     "output_type": "execute_result"
    }
   ],
   "source": [
    "range(len(l)-1,-1,-1)"
   ]
  },
  {
   "cell_type": "code",
   "execution_count": 68,
   "id": "2dd924a4-d0ff-4a0f-aac4-a81f4666b7e3",
   "metadata": {},
   "outputs": [
    {
     "data": {
      "text/plain": [
       "[9, 8, 7, 6, 5, 4, 3, 2, 1, 0]"
      ]
     },
     "execution_count": 68,
     "metadata": {},
     "output_type": "execute_result"
    }
   ],
   "source": [
    "list(range(len(l)-1,-1,-1))"
   ]
  },
  {
   "cell_type": "code",
   "execution_count": 69,
   "id": "47108eff-b4b5-41e1-8877-ba6f50cdcebf",
   "metadata": {},
   "outputs": [],
   "source": [
    "# break function"
   ]
  },
  {
   "cell_type": "code",
   "execution_count": 70,
   "id": "3d42fa9a-f760-4ab8-9713-506103221126",
   "metadata": {},
   "outputs": [
    {
     "name": "stdout",
     "output_type": "stream",
     "text": [
      "0\n",
      "1\n",
      "2\n",
      "3\n",
      "4\n"
     ]
    }
   ],
   "source": [
    "for i in range(0,10):\n",
    "    if i==5:\n",
    "        break\n",
    "    print(i)"
   ]
  },
  {
   "cell_type": "code",
   "execution_count": 2,
   "id": "494cd791-6aba-485d-b8a2-61706be37a5a",
   "metadata": {},
   "outputs": [
    {
     "name": "stdout",
     "output_type": "stream",
     "text": [
      "0\n",
      "1\n",
      "2\n",
      "3\n",
      "4\n",
      "5\n"
     ]
    }
   ],
   "source": [
    "counter=0\n",
    "while counter < 10:\n",
    "    print(counter)\n",
    "    if counter==5:\n",
    "        break\n",
    "    counter+=1"
   ]
  },
  {
   "cell_type": "code",
   "execution_count": 3,
   "id": "2491a47b-b0cf-4b0d-9635-caee7bdc8c28",
   "metadata": {},
   "outputs": [],
   "source": [
    "# continue"
   ]
  },
  {
   "cell_type": "code",
   "execution_count": 6,
   "id": "21c5865d-0b89-41fc-a2a7-d757802f2e5a",
   "metadata": {},
   "outputs": [
    {
     "name": "stdout",
     "output_type": "stream",
     "text": [
      "0\n",
      "1\n",
      "2\n",
      "3\n",
      "4\n",
      "6\n",
      "7\n",
      "8\n",
      "9\n"
     ]
    }
   ],
   "source": [
    "for i in range(10):\n",
    "    if i==5:\n",
    "        continue\n",
    "    print(i)\n",
    "        "
   ]
  },
  {
   "cell_type": "code",
   "execution_count": null,
   "id": "35a0c100-42c1-4e83-b4bb-4e5eb1abe322",
   "metadata": {},
   "outputs": [
    {
     "name": "stdout",
     "output_type": "stream",
     "text": [
      "1\n",
      "2\n",
      "3\n",
      "4\n"
     ]
    }
   ],
   "source": [
    "counter=1\n",
    "while counter < 10:\n",
    "    if counter==5:\n",
    "        continue\n",
    "    print(counter)\n",
    "    counter+=1"
   ]
  },
  {
   "cell_type": "code",
   "execution_count": null,
   "id": "a3be3ae4-f3da-4994-ac5d-5c401822534a",
   "metadata": {},
   "outputs": [],
   "source": []
  },
  {
   "cell_type": "code",
   "execution_count": null,
   "id": "07665891-bcb6-442f-93dd-9e7e87e10605",
   "metadata": {},
   "outputs": [],
   "source": []
  }
 ],
 "metadata": {
  "kernelspec": {
   "display_name": "Python 3 (ipykernel)",
   "language": "python",
   "name": "python3"
  },
  "language_info": {
   "codemirror_mode": {
    "name": "ipython",
    "version": 3
   },
   "file_extension": ".py",
   "mimetype": "text/x-python",
   "name": "python",
   "nbconvert_exporter": "python",
   "pygments_lexer": "ipython3",
   "version": "3.10.6"
  }
 },
 "nbformat": 4,
 "nbformat_minor": 5
}
